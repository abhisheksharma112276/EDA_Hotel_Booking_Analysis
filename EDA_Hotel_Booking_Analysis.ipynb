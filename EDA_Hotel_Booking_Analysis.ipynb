{
  "nbformat": 4,
  "nbformat_minor": 0,
  "metadata": {
    "colab": {
      "private_outputs": true,
      "provenance": [],
      "collapsed_sections": [
        "MSa1f5Uengrz",
        "K5QZ13OEpz2H",
        "lQ7QKXXCp7Bj",
        "448CDAPjqfQr",
        "t6dVpIINYklI",
        "ijmpgYnKYklI",
        "fge-S5ZAYoAp",
        "85gYPyotYoAp",
        "RoGjAbkUYoAp",
        "n3dbpmDWp1ck",
        "ylSl6qgtp1ck",
        "ZWILFDl5p1ck",
        "M7G43BXep1ck",
        "Ag9LCva-p1cl",
        "E6MkPsBcp1cl",
        "2cELzS2fp1cl",
        "3MPXvC8up1cl",
        "EXh0U9oCveiU",
        "22aHeOlLveiV",
        "JcMwzZxoAimU",
        "8G2x9gOozGDZ",
        "gCX9965dhzqZ",
        "gIfDvo9L0UH2"
      ],
      "include_colab_link": true
    },
    "kernelspec": {
      "name": "python3",
      "display_name": "Python 3"
    },
    "language_info": {
      "name": "python"
    }
  },
  "cells": [
    {
      "cell_type": "markdown",
      "metadata": {
        "id": "view-in-github",
        "colab_type": "text"
      },
      "source": [
        "<a href=\"https://colab.research.google.com/github/abhisheksharma112276/EDA_Hotel_Booking_Analysis/blob/main/Copy_of_Sample_EDA_Submission_Template.ipynb\" target=\"_parent\"><img src=\"https://colab.research.google.com/assets/colab-badge.svg\" alt=\"Open In Colab\"/></a>"
      ]
    },
    {
      "cell_type": "markdown",
      "source": [
        "# **Project Name**    -\n",
        "\n"
      ],
      "metadata": {
        "id": "vncDsAP0Gaoa"
      }
    },
    {
      "cell_type": "markdown",
      "source": [
        "##### **Project Type**    - EDA_Hotel_Booking_Analysis\n"
      ],
      "metadata": {
        "id": "beRrZCGUAJYm"
      }
    },
    {
      "cell_type": "markdown",
      "source": [
        "# **Project Summary -**"
      ],
      "metadata": {
        "id": "FJNUwmbgGyua"
      }
    },
    {
      "cell_type": "markdown",
      "source": [
        "Write the summary here within 500-600 words.\n",
        "\n",
        "I initiated the Hotel Booking Analysis project on October 8, 2023, and created a GitHub repository named \"EDA_Hotel Booking Analysis.\" The project was launched on the same day, and I made several commits to the repository, including a README file, the \"hotel booking.csv\" dataset, and a Google Colab notebook for analysis.\n",
        "\n",
        "On the second day of the project, I set up the environment and began structuring the Exploratory Data Analysis (EDA) templates. I defined the project's name, added a GitHub link to the Colab notebook, and wrote a problem statement for the analysis.\n",
        "\n",
        "The first step in my EDA project involved importing the necessary libraries for analysis. I imported pandas, numpy, matplotlib, and seaborn, which are essential for data manipulation and visualization.\n",
        "\n",
        "To access the dataset, I mapped the Colab notebook to my Google Drive. Using the pandas function pd.read_csv, I imported the data from a specific path. This function imported the data as a pandas DataFrame, which is a tabular data structure with rows (axis=0) and columns (axis=1). To get a sense of the data, I used pd.head() to view the first five rows and all the columns. Additionally, I used pd.info to obtain information about data types and the values stored in each feature. Using the .shape attribute, I checked the number of rows and columns in the DataFrame. I also identified and removed duplicate rows to ensure accurate analysis.\n",
        "\n",
        "Next, I checked for any missing values (NaN) in the dataset. The \"company\" column had more than 90% missing values, so I decided to remove that feature entirely. Afterward, I removed rows with any NaN values, ensuring the dataset was clean. Additionally, I converted the data types of \"agent\" and \"children\" from float to integer.\n",
        "\n",
        "I noticed that the \"children\" feature contained many 0 values. To determine whether these values were accurate, I applied a condition that returned a new DataFrame with rows where \"children,\" \"babies,\" and \"adults\" were not equal to 0.\n",
        "\n",
        "To gain a deeper understanding of the dataset, I used pd.describe to generate descriptive statistics for the features with continuous data. This provided insights into the mean, maximum, minimum, standard deviation, and other statistical measures for numerical features.\n",
        "\n",
        "I also explored the unique values within each feature, which helped me understand the different types of data present in the dataset.\n",
        "\n",
        "With the data cleaned and preprocessed, I moved on to data visualization. I used various charts, with a focus on bar charts, as they effectively visualize categorical data. I also included two popular plots, a heatmap and pairplots, to display correlations among continuous features. A heatmap provides a visual representation of the relationships between variables, while pairplots show scatter plots for all pairs of continuous variables and histograms along the diagonal.\n",
        "\n",
        "The project was completed on October 21, 2023, after a thorough exploration of the dataset and meaningful data visualizations, which will help provide valuable insights for decision-making and future analysis."
      ],
      "metadata": {
        "id": "F6v_1wHtG2nS"
      }
    },
    {
      "cell_type": "markdown",
      "source": [
        "# **GitHub Link -**"
      ],
      "metadata": {
        "id": "w6K7xa23Elo4"
      }
    },
    {
      "cell_type": "markdown",
      "source": [
        "Provide your GitHub Link here. https://github.com/abhisheksharma112276/EDA_Hotel_Booking_Analysis#eda_hotel_booking_analysis"
      ],
      "metadata": {
        "id": "h1o69JH3Eqqn"
      }
    },
    {
      "cell_type": "markdown",
      "source": [
        "# **Problem Statement**\n"
      ],
      "metadata": {
        "id": "yQaldy8SH6Dl"
      }
    },
    {
      "cell_type": "markdown",
      "source": [
        "**Write Problem Statement Here.**\n",
        "\n",
        "Have you ever wondered about when it's best to book a hotel room or how long to stay to get the best price? Or maybe you're curious about predicting if a hotel will get a lot of special requests? Well, this dataset about hotel bookings can help you explore those questions! It has information about bookings for both city and resort hotels, like when people booked, how long they stayed, how many adults and kids were there, and if there was parking available, among other things. We've made sure to remove any personal info from the data. So, you can dig into the data and figure out what things affect hotel bookings the most."
      ],
      "metadata": {
        "id": "DpeJGUA3kjGy"
      }
    },
    {
      "cell_type": "markdown",
      "source": [
        "#### **Define Your Business Objective?**"
      ],
      "metadata": {
        "id": "PH-0ReGfmX4f"
      }
    },
    {
      "cell_type": "markdown",
      "source": [
        "Answer Here."
      ],
      "metadata": {
        "id": "PhDvGCAqmjP1"
      }
    },
    {
      "cell_type": "markdown",
      "source": [
        "# **General Guidelines** : -  "
      ],
      "metadata": {
        "id": "mDgbUHAGgjLW"
      }
    },
    {
      "cell_type": "markdown",
      "source": [
        "1.   Well-structured, formatted, and commented code is required.\n",
        "2.   Exception Handling, Production Grade Code & Deployment Ready Code will be a plus. Those students will be awarded some additional credits.\n",
        "     \n",
        "     The additional credits will have advantages over other students during Star Student selection.\n",
        "       \n",
        "             [ Note: - Deployment Ready Code is defined as, the whole .ipynb notebook should be executable in one go\n",
        "                       without a single error logged. ]\n",
        "\n",
        "3.   Each and every logic should have proper comments.\n",
        "4. You may add as many number of charts you want. Make Sure for each and every chart the following format should be answered.\n",
        "        \n",
        "\n",
        "```\n",
        "# Chart visualization code\n",
        "```\n",
        "            \n",
        "\n",
        "*   Why did you pick the specific chart?\n",
        "*   What is/are the insight(s) found from the chart?\n",
        "* Will the gained insights help creating a positive business impact?\n",
        "Are there any insights that lead to negative growth? Justify with specific reason.\n",
        "\n",
        "5. You have to create at least 20 logical & meaningful charts having important insights.\n",
        "\n",
        "\n",
        "[ Hints : - Do the Vizualization in  a structured way while following \"UBM\" Rule.\n",
        "\n",
        "U - Univariate Analysis,\n",
        "\n",
        "B - Bivariate Analysis (Numerical - Categorical, Numerical - Numerical, Categorical - Categorical)\n",
        "\n",
        "M - Multivariate Analysis\n",
        " ]\n",
        "\n",
        "\n",
        "\n"
      ],
      "metadata": {
        "id": "ZrxVaUj-hHfC"
      }
    },
    {
      "cell_type": "markdown",
      "source": [
        "# ***Let's Begin !***"
      ],
      "metadata": {
        "id": "O_i_v8NEhb9l"
      }
    },
    {
      "cell_type": "markdown",
      "source": [
        "## ***1. Know Your Data***"
      ],
      "metadata": {
        "id": "HhfV-JJviCcP"
      }
    },
    {
      "cell_type": "markdown",
      "source": [
        "### Import Libraries"
      ],
      "metadata": {
        "id": "Y3lxredqlCYt"
      }
    },
    {
      "cell_type": "code",
      "source": [
        "import pandas as pd\n",
        "import numpy as np\n",
        "import matplotlib.pyplot as plt\n",
        "import seaborn as sns"
      ],
      "metadata": {
        "id": "M8Vqi-pPk-HR"
      },
      "execution_count": null,
      "outputs": []
    },
    {
      "cell_type": "markdown",
      "source": [
        "### Dataset Loading"
      ],
      "metadata": {
        "id": "3RnN4peoiCZX"
      }
    },
    {
      "cell_type": "code",
      "source": [
        "from google.colab import drive\n",
        "drive.mount('/content/drive')"
      ],
      "metadata": {
        "id": "RcNYrchbEPCt"
      },
      "execution_count": null,
      "outputs": []
    },
    {
      "cell_type": "code",
      "source": [
        "def dataframe(url):\n",
        "  try:\n",
        "    df = pd.read_csv(url)\n",
        "    return df\n",
        "  except:\n",
        "    print(\"file address might be rong\")\n",
        "\n",
        "df = dataframe(\"/content/drive/MyDrive/Colab Notebooks/Module2/2 Capston Project /Hotel Bookings.csv\")"
      ],
      "metadata": {
        "id": "grgXSIVMEX6U"
      },
      "execution_count": null,
      "outputs": []
    },
    {
      "cell_type": "markdown",
      "source": [
        "### Dataset First View"
      ],
      "metadata": {
        "id": "x71ZqKXriCWQ"
      }
    },
    {
      "cell_type": "code",
      "source": [
        "# Dataset First Look\n",
        "pd.set_option('display.max_columns', None)\n",
        "df.head()"
      ],
      "metadata": {
        "id": "LWNFOSvLl09H"
      },
      "execution_count": null,
      "outputs": []
    },
    {
      "cell_type": "markdown",
      "source": [
        "### Dataset Rows & Columns count"
      ],
      "metadata": {
        "id": "7hBIi_osiCS2"
      }
    },
    {
      "cell_type": "code",
      "source": [
        "# Dataset Rows & Columns count\n",
        "\n",
        "def r_c_count(df):\n",
        "  rows_count, columns_count = df.shape[0], df.shape[1]\n",
        "  print('Dataset Rows count: {} \\nDataset Columns count: {}'.format(rows_count,columns_count))\n",
        "\n",
        "# r_c_count function will print the Rows and Columns count.\n",
        "\n",
        "r_c_count(df)\n"
      ],
      "metadata": {
        "id": "Kllu7SJgmLij"
      },
      "execution_count": null,
      "outputs": []
    },
    {
      "cell_type": "markdown",
      "source": [
        "### Dataset Information"
      ],
      "metadata": {
        "id": "JlHwYmJAmNHm"
      }
    },
    {
      "cell_type": "code",
      "source": [
        "# Dataset Info\n",
        "df.info()"
      ],
      "metadata": {
        "id": "e9hRXRi6meOf"
      },
      "execution_count": null,
      "outputs": []
    },
    {
      "cell_type": "markdown",
      "source": [
        "#### Duplicate Values"
      ],
      "metadata": {
        "id": "35m5QtbWiB9F"
      }
    },
    {
      "cell_type": "code",
      "source": [
        "# Dataset Duplicate Value Count\n",
        "def duplicate(df):\n",
        "  try:\n",
        "    duplicate_rows = df.duplicated().sum()\n",
        "    print(f\"Number of duplicate rows: {duplicate_rows}\")\n",
        "    return duplicate_rows\n",
        "  except:\n",
        "    print(\"df shoulb be a valid dataframe\")\n",
        "\n",
        "\n",
        "\n",
        "# this function will print the Number of duplicate rows in dataframe\n",
        "duplicate(df)"
      ],
      "metadata": {
        "id": "1sLdpKYkmox0"
      },
      "execution_count": null,
      "outputs": []
    },
    {
      "cell_type": "markdown",
      "source": [
        "#### Missing Values/Null Values"
      ],
      "metadata": {
        "id": "PoPl-ycgm1ru"
      }
    },
    {
      "cell_type": "code",
      "source": [
        "# Missing Values/Null Values Count\n",
        "Na_value = df.isna().sum()\n",
        "Na_value"
      ],
      "metadata": {
        "id": "jxwUPEtG6RRx"
      },
      "execution_count": null,
      "outputs": []
    },
    {
      "cell_type": "code",
      "source": [
        "# Set the figure size\n",
        "plt.figure(figsize=(10, 6))\n",
        "\n",
        "# Create the bar plot using Seaborn\n",
        "sns.barplot(x=Na_value.values, y=Na_value.index)\n",
        "\n",
        "# Add labels and title\n",
        "plt.xlabel('Rows Null Value', color=\"green\", fontsize=20)\n",
        "plt.ylabel('Columns', color=\"green\", fontsize=20)\n",
        "plt.title('Represent Null Value', color=\"green\", fontsize=20)\n",
        "\n",
        "plt.show()"
      ],
      "metadata": {
        "id": "m5mAjl5w6WA2"
      },
      "execution_count": null,
      "outputs": []
    },
    {
      "cell_type": "markdown",
      "source": [
        "### What did you know about your dataset?"
      ],
      "metadata": {
        "id": "H0kj-8xxnORC"
      }
    },
    {
      "cell_type": "markdown",
      "source": [
        "Answer Here\n",
        "\n",
        "The dataset consists of 119,390 rows and 32 columns, with 31,994 duplicate rows. A visual inspection of the bar chart reveals that the \"Company\" column contains more than 100,000 missing/null values, indicating a significant amount of missing data. Considering the large number of columns, it may be advisable to remove the \"Company\" column from the dataset.\n",
        "\n"
      ],
      "metadata": {
        "id": "gfoNAAC-nUe_"
      }
    },
    {
      "cell_type": "markdown",
      "source": [
        "## ***2. Understanding Your Variables***"
      ],
      "metadata": {
        "id": "nA9Y7ga8ng1Z"
      }
    },
    {
      "cell_type": "code",
      "source": [
        "# Dataset Columns\n",
        "df.columns"
      ],
      "metadata": {
        "id": "j7xfkqrt5Ag5"
      },
      "execution_count": null,
      "outputs": []
    },
    {
      "cell_type": "code",
      "source": [
        "# Dataset Describe\n",
        "df.describe()\n"
      ],
      "metadata": {
        "id": "DnOaZdaE5Q5t"
      },
      "execution_count": null,
      "outputs": []
    },
    {
      "cell_type": "markdown",
      "source": [
        "### Variables Description"
      ],
      "metadata": {
        "id": "PBTbrJXOngz2"
      }
    },
    {
      "cell_type": "markdown",
      "source": [
        "Answer Here\n",
        "\n",
        "Hotel = H1 resort Hotel and H2 City Hotel\n",
        "\n",
        "Is_cancelled = if the booking was cancelled (1) else (0)\n",
        "\n",
        "lead time = number of days that elapsed between the enterig of date of the booking into the PMS and the arrival date.\n",
        "\n",
        "arrival date year = year of arrival date\n",
        "\n",
        "arrival date month = month of arrival date\n",
        "\n",
        "arrival date week number = week number for arrival date\n",
        "\n",
        "arrival dat day = day of arrival date\n",
        "\n",
        "stays_in_weekend_nights = Number of weekend nights (Saturday or Sunday) the guest stayed or booked to stay at the hotel\n",
        "\n",
        "stays_in_week_nights = Number of week nights (Monday to Friday) the guest stayed or booked to stay at the hotel\n",
        "\n",
        "adults = Number of adults\n",
        "\n",
        "children = Number of children\n",
        "\n",
        "babies = Number of babies\n",
        "\n",
        "meal = Kind of meal opted for\n",
        "\n",
        "country = Country code\n",
        "\n",
        "market segment = Which segment the customer belongs to\n",
        "\n",
        "Distribution _channel = How the customer accessed the stay- corporate booking/Direct/TA.TO\n",
        "\n",
        "is_repeated_guest = Guest coming for first time or not\n",
        "\n",
        "previous_cancellation = Was there a cancellation before\n",
        "\n",
        "previous_bookings = Count of previous bookings\n",
        "\n",
        "reserved_room_type = Type of room reserved\n",
        "\n",
        "assigned_room_type = Type of room assigned\n",
        "\n",
        "booking changes = Count of changes made to booking\n",
        "\n",
        "deposit_type = Deposit type\n",
        "\n",
        "agent = Booked through agent\n",
        "\n",
        "days_in_waiting_list = Number of days in waiting list\n",
        "\n",
        "customer_type = Type of customer\n",
        "\n",
        "required_car_parking = If car parking is required\n",
        "\n",
        "total_of_special_req =Number of additional special requirements\n",
        "\n",
        "reservation_status = Reservation of status\n",
        "\n",
        "reservation_status_date = Date of the specific status\n",
        "\n"
      ],
      "metadata": {
        "id": "aJV4KIxSnxay"
      }
    },
    {
      "cell_type": "markdown",
      "source": [
        "### Check Unique Values for each variable."
      ],
      "metadata": {
        "id": "u3PMJOP6ngxN"
      }
    },
    {
      "cell_type": "code",
      "source": [
        "# Check Unique Values for each variable.\n",
        "unique = df.nunique()\n",
        "print(unique)"
      ],
      "metadata": {
        "id": "zms12Yq5n-jE"
      },
      "execution_count": null,
      "outputs": []
    },
    {
      "cell_type": "markdown",
      "source": [
        "All columns which have less than 10 uniqe value their values are printed separatly"
      ],
      "metadata": {
        "id": "pDu92U6riaGb"
      }
    },
    {
      "cell_type": "code",
      "source": [
        "df[\"hotel\"].unique()"
      ],
      "metadata": {
        "id": "0N-onOfvg_Rr"
      },
      "execution_count": null,
      "outputs": []
    },
    {
      "cell_type": "code",
      "source": [
        "df[\"is_canceled\"].unique()"
      ],
      "metadata": {
        "id": "ZiZz-ZAhhHJE"
      },
      "execution_count": null,
      "outputs": []
    },
    {
      "cell_type": "code",
      "source": [
        "df[\"arrival_date_year\"].unique()"
      ],
      "metadata": {
        "id": "142BqGtKhG4s"
      },
      "execution_count": null,
      "outputs": []
    },
    {
      "cell_type": "code",
      "source": [
        "df[\"children\"].unique()"
      ],
      "metadata": {
        "id": "B1OEeooyhGkX"
      },
      "execution_count": null,
      "outputs": []
    },
    {
      "cell_type": "code",
      "source": [
        "df[\"babies\"].unique()"
      ],
      "metadata": {
        "id": "SVCKiM66hGSt"
      },
      "execution_count": null,
      "outputs": []
    },
    {
      "cell_type": "code",
      "source": [
        "df[\"meal\"].unique()"
      ],
      "metadata": {
        "id": "cF0jc1yMhGAN"
      },
      "execution_count": null,
      "outputs": []
    },
    {
      "cell_type": "code",
      "source": [
        "df[\"market_segment\"].unique()"
      ],
      "metadata": {
        "id": "IAHB213Whm05"
      },
      "execution_count": null,
      "outputs": []
    },
    {
      "cell_type": "code",
      "source": [
        "df[\"distribution_channel\"].unique()"
      ],
      "metadata": {
        "id": "o15K9tzfhmw8"
      },
      "execution_count": null,
      "outputs": []
    },
    {
      "cell_type": "code",
      "source": [
        "df[\"is_repeated_guest\"].unique()"
      ],
      "metadata": {
        "id": "LwRIkeCmhmst"
      },
      "execution_count": null,
      "outputs": []
    },
    {
      "cell_type": "code",
      "source": [
        "df[\"reserved_room_type\"].unique()"
      ],
      "metadata": {
        "id": "e77WXAr7hmaT"
      },
      "execution_count": null,
      "outputs": []
    },
    {
      "cell_type": "code",
      "source": [
        "df[\"deposit_type\"].unique()"
      ],
      "metadata": {
        "id": "tDY3NJjihmXh"
      },
      "execution_count": null,
      "outputs": []
    },
    {
      "cell_type": "code",
      "source": [
        "df[\"customer_type\"].unique()"
      ],
      "metadata": {
        "id": "aTkLTgd-hmTU"
      },
      "execution_count": null,
      "outputs": []
    },
    {
      "cell_type": "code",
      "source": [
        "df[\"required_car_parking_spaces\"].unique()"
      ],
      "metadata": {
        "id": "W7GDbrw2hmOT"
      },
      "execution_count": null,
      "outputs": []
    },
    {
      "cell_type": "code",
      "source": [
        "df[\"total_of_special_requests\"].unique()"
      ],
      "metadata": {
        "id": "TheSxkLrhmJr"
      },
      "execution_count": null,
      "outputs": []
    },
    {
      "cell_type": "code",
      "source": [
        "df[\"reservation_status\"].unique()"
      ],
      "metadata": {
        "id": "XdUIFvZWhmCA"
      },
      "execution_count": null,
      "outputs": []
    },
    {
      "cell_type": "markdown",
      "source": [
        "## 3. ***Data Wrangling***"
      ],
      "metadata": {
        "id": "dauF4eBmngu3"
      }
    },
    {
      "cell_type": "markdown",
      "source": [
        "### Data Wrangling Code"
      ],
      "metadata": {
        "id": "bKJF3rekwFvQ"
      }
    },
    {
      "cell_type": "code",
      "source": [
        "# Write your code to make your dataset analysis ready.\n",
        "# orignal dataframe rows and columns\n",
        "print(f\"original dataframe rows count: {df.shape[0]}\")\n",
        "new_df = df\n",
        "try:\n",
        "  print(\"\")\n",
        "  new_df.drop_duplicates(subset=None, keep='first', inplace=True)\n",
        "  print(f\"after removing duplicate rows from dataframe rows count is: {df.shape[0]}\")\n",
        "except:\n",
        "  print(\"it should be a dataframe\")"
      ],
      "metadata": {
        "id": "8PvuBLI_WQBY"
      },
      "execution_count": null,
      "outputs": []
    },
    {
      "cell_type": "code",
      "source": [
        "# The 'company' column is removed as it contains a large number of null values.\n",
        "def remove_column(df, column_name):\n",
        "  try:\n",
        "    df.drop(labels=column_name, inplace=True, axis=1)\n",
        "    print(\"company column is removed\")\n",
        "  except:\n",
        "    print(\"already removed\")\n",
        "\n",
        "remove_column(new_df, \"company\")"
      ],
      "metadata": {
        "id": "wk-9a2fpoLcV"
      },
      "execution_count": null,
      "outputs": []
    },
    {
      "cell_type": "code",
      "source": [
        "# country, children, agent columns rows are removed for the null values\n",
        "\n",
        "def remove_rows(df, columns_name):\n",
        "  try:\n",
        "    print(f\"before removing non_vlaue from dataframe column '{columns_name}' rows count: {df.shape[0]}\")\n",
        "    df.dropna(subset=columns_name, inplace=True)\n",
        "    print(f\"'{columns_name}' column which rows was null are removed\")\n",
        "    print(f\"after removing non_vlaue from dataframe column '{columns_name}' rows count: {df.shape[0]}\")\n",
        "  except:\n",
        "    print(\"it should be a valid dataframe\")\n",
        "\n",
        "remove_rows(new_df, [\"country\",\"agent\",\"children\"])"
      ],
      "metadata": {
        "id": "iMLzaj68iwjY"
      },
      "execution_count": null,
      "outputs": []
    },
    {
      "cell_type": "code",
      "source": [
        "# children column datatype is float which is changed to integer\n",
        "new_df[\"children\"] = new_df[\"children\"].apply(lambda a: int(a))"
      ],
      "metadata": {
        "id": "FyEzgM9_NPOt"
      },
      "execution_count": null,
      "outputs": []
    },
    {
      "cell_type": "code",
      "source": [
        "# new_df is returne with all the row where children,adults and babies are not equal to 0\n",
        "new_df = new_df[new_df[\"children\"]+new_df[\"adults\"]+new_df[\"babies\"]!=0]"
      ],
      "metadata": {
        "id": "Xoo9qVkjUJNV"
      },
      "execution_count": null,
      "outputs": []
    },
    {
      "cell_type": "code",
      "source": [
        "new_df.info()"
      ],
      "metadata": {
        "id": "4SEEH1_BUwC7"
      },
      "execution_count": null,
      "outputs": []
    },
    {
      "cell_type": "code",
      "source": [
        "new_df.loc[:, \"reservation_status_date\"] = pd.to_datetime(new_df[\"reservation_status_date\"])"
      ],
      "metadata": {
        "id": "tBl5lxfp38Kb"
      },
      "execution_count": null,
      "outputs": []
    },
    {
      "cell_type": "code",
      "source": [
        "# agent is converted into int datatype\n",
        "new_df.loc[:,\"agent\"] = new_df[\"agent\"].astype(int)"
      ],
      "metadata": {
        "id": "dxHGlJqu7ddH"
      },
      "execution_count": null,
      "outputs": []
    },
    {
      "cell_type": "code",
      "source": [
        "heat = new_df.dtypes.reset_index(drop=False)\n",
        "heat = heat[heat[0]==\"int64\"]\n",
        "heat_map = new_df[heat[\"index\"]].corr()\n",
        "heat_map"
      ],
      "metadata": {
        "id": "thnPn5oG7UIv"
      },
      "execution_count": null,
      "outputs": []
    },
    {
      "cell_type": "markdown",
      "source": [
        "### What all manipulations have you done and insights you found?"
      ],
      "metadata": {
        "id": "MSa1f5Uengrz"
      }
    },
    {
      "cell_type": "markdown",
      "source": [
        "Answer Here.\n",
        "\n",
        "Original DataFrame Rows and Columns:\n",
        "\n",
        "Original DataFrame rows count: 119,390\n",
        "Number of columns: 32\n",
        "\n",
        "Data Manipulations:\n",
        "\n",
        "After removing duplicate rows from the DataFrame:\n",
        "\n",
        "Rows count is reduced to 87,396.\n",
        "The 'company' column was removed from the DataFrame due to a large number of null values.\n",
        "\n",
        "Rows with missing values in the 'country',babies, 'agent' are removed.\n",
        "\n",
        "children and agent column datatype is float which is changed to integer\n",
        "\n",
        "new_df is returne with all the row where children,adults and babies are not equal to 0\n",
        "\n",
        "These data manipulations are important for data cleaning and preparation, ensuring a cleaner and more focused dataset for further analysis or modeling."
      ],
      "metadata": {
        "id": "LbyXE7I1olp8"
      }
    },
    {
      "cell_type": "markdown",
      "source": [
        "## ***4. Data Vizualization, Storytelling & Experimenting with charts : Understand the relationships between variables***"
      ],
      "metadata": {
        "id": "GF8Ens_Soomf"
      }
    },
    {
      "cell_type": "markdown",
      "source": [
        "#### Chart - 1"
      ],
      "metadata": {
        "id": "0wOQAZs5pc--"
      }
    },
    {
      "cell_type": "code",
      "source": [
        "new_df.reset_index(drop=True, inplace=True)\n",
        "new_df.head()"
      ],
      "metadata": {
        "id": "XTuKoibieBIf"
      },
      "execution_count": null,
      "outputs": []
    },
    {
      "cell_type": "code",
      "source": [
        "# Chart - 1 visualization code\n",
        "# what are the number of booking for hotel and resort\n",
        "# i filtered the rows where bookins was successful and than i apply groupby to hotel so get the count for each type of hotel which is booked by guests so that we can check which type of hotel booking is most preffered by guests\n",
        "# 0 refer successfull booking\n",
        "group_df = new_df[new_df[\"is_canceled\"] == 0].groupby(\"hotel\")[\"is_canceled\"].count()\n",
        "group_df = group_df.reset_index(drop=False)\n",
        "\n",
        "sns.barplot(data=group_df, x = \"hotel\", y = \"is_canceled\")\n",
        "plt.xlabel(\"Type of hotels\", color= \"green\", fontsize=20)\n",
        "plt.ylabel(\"No. of booking\",  color= \"green\", fontsize=20)\n",
        "plt.title(\"Hotel Prefernces Among People\",  color= \"green\", fontsize=20)\n"
      ],
      "metadata": {
        "id": "7v_ESjsspbW7"
      },
      "execution_count": null,
      "outputs": []
    },
    {
      "cell_type": "markdown",
      "source": [
        "##### 1. Why did you pick the specific chart?"
      ],
      "metadata": {
        "id": "K5QZ13OEpz2H"
      }
    },
    {
      "cell_type": "markdown",
      "source": [
        "Answer Here.\n",
        "\n",
        "I chose the bar chart for this dataset because it effectively illustrates the variations in hotel booking types, making it easy to compare the frequencies of different hotel preferences"
      ],
      "metadata": {
        "id": "XESiWehPqBRc"
      }
    },
    {
      "cell_type": "markdown",
      "source": [
        "##### 2. What is/are the insight(s) found from the chart?"
      ],
      "metadata": {
        "id": "lQ7QKXXCp7Bj"
      }
    },
    {
      "cell_type": "markdown",
      "source": [
        "Answer Here\n",
        "\n",
        "The insights which I found reveals that city hotels have a significantly higher number of bookings compared to resort hotels."
      ],
      "metadata": {
        "id": "C_j1G7yiqdRP"
      }
    },
    {
      "cell_type": "markdown",
      "source": [
        "##### 3. Will the gained insights help creating a positive business impact?\n",
        "Are there any insights that lead to negative growth? Justify with specific reason."
      ],
      "metadata": {
        "id": "448CDAPjqfQr"
      }
    },
    {
      "cell_type": "markdown",
      "source": [
        "Answer Here\n",
        "\n",
        "Yes, gaining insights from this chart can be valuable for new startups that may be uncertain about which type of hotel attracts a larger number of guests. By examining this chart, they can easily identify the preferred choice of hotels among guests."
      ],
      "metadata": {
        "id": "3cspy4FjqxJW"
      }
    },
    {
      "cell_type": "markdown",
      "source": [
        "#### Chart - 2"
      ],
      "metadata": {
        "id": "KSlN3yHqYklG"
      }
    },
    {
      "cell_type": "code",
      "source": [
        "# Chart - 2 visualization code\n",
        "# 0 successfull booking\n",
        "# 1 for booking caceled\n",
        "\n",
        "Resort_Hotel = new_df[(new_df['is_canceled']==0) & (new_df['hotel'] ==\"Resort Hotel\")].groupby(\"arrival_date_month\")[\"hotel\"].count().reset_index(drop=False).rename(columns={'hotel':\"Resort_Hotel\"})\n",
        "\n",
        "City_Hotel = new_df[(new_df['is_canceled']==0) & (new_df['hotel'] ==\"City Hotel\")].groupby(\"arrival_date_month\")[\"hotel\"].count().reset_index(drop=False).rename(columns={'hotel':\"City_Hotel\"})\n",
        "\n",
        "hotels = pd.merge(Resort_Hotel,City_Hotel,on=\"arrival_date_month\", how=\"outer\")\n",
        "order_month = pd.DataFrame({\"arrival_date_month\" : ['January', 'February', 'March', 'April','May', 'June', 'July', 'August','September', 'October', 'November', 'December']})\n",
        "hotels = pd.merge(order_month,hotels, on= \"arrival_date_month\", how=\"inner\")\n",
        "\n",
        "# Create the first bar chart in the first subplot\n",
        "\n",
        "fig, ax = plt.subplots(figsize=(15, 6))\n",
        "\n",
        "# Data\n",
        "x = np.arange(len(hotels['arrival_date_month']))\n",
        "w = 0.4\n",
        "\n",
        "# Create the bar chart for \"Resort_Hotel\"\n",
        "ax.bar(x, hotels[\"Resort_Hotel\"], color=\"#0339fc\", width=w, alpha=0.5, label=\"Resort_Hotel\")\n",
        "x = x + w\n",
        "\n",
        "# Create the bar chart for \"City_Hotel\"\n",
        "ax.bar(x, hotels[\"City_Hotel\"], color=\"#42f5e3\", width=w, label=\"City_Hotel\")\n",
        "\n",
        "# Set x-tick labels\n",
        "ax.set_xticks(x - w / 2)\n",
        "ax.set_xticklabels(hotels[\"arrival_date_month\"])\n",
        "\n",
        "# Set the title and labels\n",
        "ax.set_title(\"Hotel Bookings by Month\", color=\"green\", fontsize=20)\n",
        "ax.set_xlabel('Month of bookings', color=\"green\", fontsize=20)\n",
        "ax.set_ylabel('Number of bookings', color=\"green\", fontsize=20)\n",
        "\n",
        "# Add a legend to distinguish between Resort_Hotel and City_Hotel\n",
        "ax.legend()\n",
        "\n",
        "# Show the plot\n",
        "plt.show()\n",
        "\n"
      ],
      "metadata": {
        "id": "R4YgtaqtYklH"
      },
      "execution_count": null,
      "outputs": []
    },
    {
      "cell_type": "markdown",
      "source": [
        "##### 1. Why did you pick the specific chart?"
      ],
      "metadata": {
        "id": "t6dVpIINYklI"
      }
    },
    {
      "cell_type": "markdown",
      "source": [
        "Answer Here.\n",
        "\n",
        "This chart easily demonstrates the number of bookings for each month in the year and also compares which type of hotel has the highest number of bookings in comparison to other hotel types."
      ],
      "metadata": {
        "id": "5aaW0BYyYklI"
      }
    },
    {
      "cell_type": "markdown",
      "source": [
        "##### 2. What is/are the insight(s) found from the chart?"
      ],
      "metadata": {
        "id": "ijmpgYnKYklI"
      }
    },
    {
      "cell_type": "markdown",
      "source": [
        "Answer Here\n",
        "\n",
        "We have detailed information related to bookings for both Resort hotels and City hotels. Additionally, we have a clear visual representation showing the successful total bookings corresponding to each month. Simultaneously, we can observe that the demand for City hotels is higher than that for Resort hotels"
      ],
      "metadata": {
        "id": "PSx9atu2YklI"
      }
    },
    {
      "cell_type": "markdown",
      "source": [
        "##### 3. Will the gained insights help creating a positive business impact?\n",
        "Are there any insights that lead to negative growth? Justify with specific reason."
      ],
      "metadata": {
        "id": "-JiQyfWJYklI"
      }
    },
    {
      "cell_type": "markdown",
      "source": [
        "Answer Here\n",
        "\n",
        "Yes, we can forcast now which moth will be required more staf, which type of hotel have more successfull booking incomparison to other, and we also have an appealing visualisation of the large dataset which describes a lot about the business like which hotel is preffered by people for the booking."
      ],
      "metadata": {
        "id": "BcBbebzrYklV"
      }
    },
    {
      "cell_type": "markdown",
      "source": [
        "#### Chart - 3"
      ],
      "metadata": {
        "id": "EM7whBJCYoAo"
      }
    },
    {
      "cell_type": "code",
      "source": [
        "from ipywidgets import Label\n",
        "# Chart - 3 visualization code\n",
        "# 0 successfull booking\n",
        "# 1 for booking caceled\n",
        "booking_canceled = new_df[new_df[\"is_canceled\"]==1].groupby(\"arrival_date_month\")[\"is_canceled\"].count()\n",
        "\n",
        "new1 = pd.DataFrame({\"arrival_date_month\": [\"January\", \"February\", \"March\", \"April\",\"May\", \"June\", \"July\", \"August\",\"September\", \"October\", \"November\", \"December\"]})\n",
        "booking_canceled = pd.merge(new1,booking_canceled,on=\"arrival_date_month\",how=\"inner\")\n",
        "\n",
        "booking_not_canceled = new_df[new_df[\"is_canceled\"]==0].groupby(\"arrival_date_month\")[\"is_canceled\"].count()\n",
        "booking_not_canceled = pd.merge(new1,booking_not_canceled,on=\"arrival_date_month\",how=\"inner\")\n",
        "\n",
        "fig, ax = plt.subplots(figsize=(14,6))\n",
        "sns.lineplot(x=booking_canceled[\"arrival_date_month\"],y=booking_canceled[\"is_canceled\"], label=\"Booking Canceled\")\n",
        "sns.lineplot(x=booking_not_canceled[\"arrival_date_month\"],y=booking_not_canceled[\"is_canceled\"], label=\"Booking not Canceled\")\n",
        "plt.xlabel(\"Month\",fontsize=14, color=\"green\")\n",
        "plt.ylabel(\"No. of Bookings\",fontsize=14, color=\"green\")\n",
        "plt.title(\"Cancelled Bookings vs. Successful Bookings\",fontsize=14, color=\"green\")"
      ],
      "metadata": {
        "id": "t6GMdE67YoAp"
      },
      "execution_count": null,
      "outputs": []
    },
    {
      "cell_type": "markdown",
      "source": [
        "##### 1. Why did you pick the specific chart?"
      ],
      "metadata": {
        "id": "fge-S5ZAYoAp"
      }
    },
    {
      "cell_type": "markdown",
      "source": [
        "Answer Here.\n",
        "\n",
        "this chart visualize the Canceled booking vs Successful booking in an easy way."
      ],
      "metadata": {
        "id": "5dBItgRVYoAp"
      }
    },
    {
      "cell_type": "markdown",
      "source": [
        "##### 2. What is/are the insight(s) found from the chart?"
      ],
      "metadata": {
        "id": "85gYPyotYoAp"
      }
    },
    {
      "cell_type": "markdown",
      "source": [
        "Answer Here\n",
        "\n",
        "This chart show that no. of booking's cancelation increases when no. of booking is successful increase, we can observe by this plot that the August month have the highest no. of booking cancellation and at the same time no. of booking was successful for the same month"
      ],
      "metadata": {
        "id": "4jstXR6OYoAp"
      }
    },
    {
      "cell_type": "markdown",
      "source": [
        "##### 3. Will the gained insights help creating a positive business impact?\n",
        "Are there any insights that lead to negative growth? Justify with specific reason."
      ],
      "metadata": {
        "id": "RoGjAbkUYoAp"
      }
    },
    {
      "cell_type": "markdown",
      "source": [
        "Answer Here\n",
        "\n",
        "The insights gained will help create a positive business impact. After analyzing this trend, business owners can make changes in how they handle customers, ensuring they retain those customers who had previously canceled their hotel bookings. They can also start gathering feedback from their customers to understand their preferences and dislikes regarding the hotel services, which will enable them to improve their hospitality.\""
      ],
      "metadata": {
        "id": "zfJ8IqMcYoAp"
      }
    },
    {
      "cell_type": "markdown",
      "source": [
        "#### Chart - 4"
      ],
      "metadata": {
        "id": "bamQiAODYuh1"
      }
    },
    {
      "cell_type": "code",
      "source": [
        "# Chart - 4 visualization code\n",
        "\n",
        "sns.histplot(data=new_df, x=new_df['lead_time'],color=\"orange\", edgecolor=\"red\")\n",
        "plt.title(\"lead_time\", fontsize=20, color=\"green\")\n"
      ],
      "metadata": {
        "id": "TIJwrbroYuh3"
      },
      "execution_count": null,
      "outputs": []
    },
    {
      "cell_type": "markdown",
      "source": [
        "##### 1. Why did you pick the specific chart?"
      ],
      "metadata": {
        "id": "QHF8YVU7Yuh3"
      }
    },
    {
      "cell_type": "markdown",
      "source": [
        "Answer Here.\n",
        "\n",
        "This chart give us the distribution of the lead_time among customers."
      ],
      "metadata": {
        "id": "dcxuIMRPYuh3"
      }
    },
    {
      "cell_type": "markdown",
      "source": [
        "##### 2. What is/are the insight(s) found from the chart?"
      ],
      "metadata": {
        "id": "GwzvFGzlYuh3"
      }
    },
    {
      "cell_type": "markdown",
      "source": [
        "Answer Here\n",
        "\n",
        "This chart shows us that more than **8000** people book the hotel on the spot."
      ],
      "metadata": {
        "id": "uyqkiB8YYuh3"
      }
    },
    {
      "cell_type": "markdown",
      "source": [
        "##### 3. Will the gained insights help creating a positive business impact?\n",
        "Are there any insights that lead to negative growth? Justify with specific reason."
      ],
      "metadata": {
        "id": "qYpmQ266Yuh3"
      }
    },
    {
      "cell_type": "markdown",
      "source": [
        "Answer Here\n",
        "\n",
        "After going through this chart business can pridict that number of guests books the hotel on the same day, so they can prepare accordingly."
      ],
      "metadata": {
        "id": "_WtzZ_hCYuh4"
      }
    },
    {
      "cell_type": "markdown",
      "source": [],
      "metadata": {
        "id": "Wsxb33wBp-cZ"
      }
    },
    {
      "cell_type": "markdown",
      "source": [
        "#### Chart - 5"
      ],
      "metadata": {
        "id": "OH-pJp9IphqM"
      }
    },
    {
      "cell_type": "code",
      "source": [
        "# Chart - 5 visualization code\n",
        "# Which room type generatest highest adr?\n",
        "room_type = new_df.groupby(\"assigned_room_type\")['adr'].sum()\n",
        "room_type\n",
        "\n",
        "sns.barplot(y=room_type.index, x=room_type.values)\n",
        "plt.xlabel(\"A_D_R\")\n",
        "plt.title(\"Average Daily Revenue\")\n"
      ],
      "metadata": {
        "id": "kuRf4wtuphqN"
      },
      "execution_count": null,
      "outputs": []
    },
    {
      "cell_type": "markdown",
      "source": [
        "##### 1. Why did you pick the specific chart?"
      ],
      "metadata": {
        "id": "bbFf2-_FphqN"
      }
    },
    {
      "cell_type": "markdown",
      "source": [
        "Answer Here.\n",
        "\n",
        "This chart illustrates the distribution of room types that generated the highest ADR (Average Daily Rate) among various room categories"
      ],
      "metadata": {
        "id": "loh7H2nzphqN"
      }
    },
    {
      "cell_type": "markdown",
      "source": [
        "##### 2. What is/are the insight(s) found from the chart?"
      ],
      "metadata": {
        "id": "_ouA3fa0phqN"
      }
    },
    {
      "cell_type": "markdown",
      "source": [
        "Answer Here\n",
        "\n",
        "The majority of the revenue is derived from rooms categorized as 'Type A' and 'Type D'.\""
      ],
      "metadata": {
        "id": "VECbqPI7phqN"
      }
    },
    {
      "cell_type": "markdown",
      "source": [
        "##### 3. Will the gained insights help creating a positive business impact?\n",
        "Are there any insights that lead to negative growth? Justify with specific reason."
      ],
      "metadata": {
        "id": "Seke61FWphqN"
      }
    },
    {
      "cell_type": "markdown",
      "source": [
        "Answer Here\n",
        "\n",
        "After visualizing this bar chart for each type of room, we can gain insights into which room type generates the highest ADR. Hotels can then consider increasing the number of rooms of this type to maximize revenue"
      ],
      "metadata": {
        "id": "DW4_bGpfphqN"
      }
    },
    {
      "cell_type": "markdown",
      "source": [
        "#### Chart - 6"
      ],
      "metadata": {
        "id": "PIIx-8_IphqN"
      }
    },
    {
      "cell_type": "code",
      "source": [
        "new_df.head(2)"
      ],
      "metadata": {
        "id": "FocRafRwr3L8"
      },
      "execution_count": null,
      "outputs": []
    },
    {
      "cell_type": "code",
      "source": [
        "# Chart - 6 visualization code\n",
        "\n",
        "# Let us see from which countries most of the customers visit these hotels?\n",
        "\n",
        "country = new_df.groupby(\"country\")\n",
        "country_group = country.size().reset_index(drop=False)\n",
        "top_country = country_group.sort_values(0,ascending=False).reset_index(drop=True)\n",
        "top10_country = top_country.iloc[:10,:]\n",
        "\n",
        "sns.barplot(data=top10_country, x=\"country\", y=0)\n",
        "plt.title(\"Top 10 Countries with the Most Customers\")\n",
        "plt.xlabel(\"Country\")\n",
        "plt.ylabel(\"Number of Customers\")\n"
      ],
      "metadata": {
        "id": "lqAIGUfyphqO"
      },
      "execution_count": null,
      "outputs": []
    },
    {
      "cell_type": "markdown",
      "source": [
        "##### 1. Why did you pick the specific chart?"
      ],
      "metadata": {
        "id": "t27r6nlMphqO"
      }
    },
    {
      "cell_type": "markdown",
      "source": [
        "Answer Here.\n",
        "\n",
        "The 'country' data is categorical, and a bar chart is an effective way to represent and compare different categories, in this case, countries"
      ],
      "metadata": {
        "id": "iv6ro40sphqO"
      }
    },
    {
      "cell_type": "markdown",
      "source": [
        "##### 2. What is/are the insight(s) found from the chart?"
      ],
      "metadata": {
        "id": "r2jJGEOYphqO"
      }
    },
    {
      "cell_type": "markdown",
      "source": [
        "Answer Here\n",
        "\n",
        "The chart clearly shows the countries with the highest number of customers. In this case, the top 10 countries are displayed."
      ],
      "metadata": {
        "id": "Po6ZPi4hphqO"
      }
    },
    {
      "cell_type": "markdown",
      "source": [
        "##### 3. Will the gained insights help creating a positive business impact?\n",
        "Are there any insights that lead to negative growth? Justify with specific reason."
      ],
      "metadata": {
        "id": "b0JNsNcRphqO"
      }
    },
    {
      "cell_type": "markdown",
      "source": [
        "Answer Here\n",
        "\n",
        "By identifying the top countries with the most customers, hotels can create targeted marketing campaigns for these regions. This can lead to an increase in customer bookings and revenue.\n",
        "\n",
        " Understanding the diversity of customers' countries of origin allows hotels to offer customized services, such as multilingual support, cultural accommodations, and cuisine preferences, leading to improved customer experiences.\n",
        "\n",
        " Hotels can leverage this information to expand their presence in countries that are not yet top contributors but show potential. They can tailor marketing efforts to tap into new markets"
      ],
      "metadata": {
        "id": "xvSq8iUTphqO"
      }
    },
    {
      "cell_type": "markdown",
      "source": [
        "#### Chart - 7"
      ],
      "metadata": {
        "id": "BZR9WyysphqO"
      }
    },
    {
      "cell_type": "code",
      "source": [
        "new_df.head(2)"
      ],
      "metadata": {
        "id": "Fg3VZHcL6myo"
      },
      "execution_count": null,
      "outputs": []
    },
    {
      "cell_type": "code",
      "source": [
        "# Chart - 7 visualization code\n",
        "\n",
        "# Which hotel has high chance that its customer will return for another stay?\n",
        "hotel_chance = new_df.groupby(\"hotel\")[\"is_repeated_guest\"].sum()\n",
        "hotel_chance\n",
        "sns.barplot(x = hotel_chance.index,y = hotel_chance.values)\n",
        "\n",
        "plt.title(\"Hotel vs. Number of Repeated Guests\")\n",
        "plt.xlabel(\"Hotel\")\n",
        "plt.ylabel(\"Number of Repeated Guests\")"
      ],
      "metadata": {
        "id": "TdPTWpAVphqO"
      },
      "execution_count": null,
      "outputs": []
    },
    {
      "cell_type": "markdown",
      "source": [
        "##### 1. Why did you pick the specific chart?"
      ],
      "metadata": {
        "id": "jj7wYXLtphqO"
      }
    },
    {
      "cell_type": "markdown",
      "source": [
        "Answer Here.\n",
        "\n",
        "This chart visualize that resort hotel and city hotel repeated guest in a quite easy way"
      ],
      "metadata": {
        "id": "Ob8u6rCTphqO"
      }
    },
    {
      "cell_type": "markdown",
      "source": [
        "##### 2. What is/are the insight(s) found from the chart?"
      ],
      "metadata": {
        "id": "eZrbJ2SmphqO"
      }
    },
    {
      "cell_type": "markdown",
      "source": [
        "Answer Here\n",
        "\n",
        "This chart give us insights of repeated guest, and we can easily observe by this chart that Resort Hotle repeated guest are more than City Hotel"
      ],
      "metadata": {
        "id": "mZtgC_hjphqO"
      }
    },
    {
      "cell_type": "markdown",
      "source": [
        "##### 3. Will the gained insights help creating a positive business impact?\n",
        "Are there any insights that lead to negative growth? Justify with specific reason."
      ],
      "metadata": {
        "id": "rFu4xreNphqO"
      }
    },
    {
      "cell_type": "markdown",
      "source": [
        "Answer Here\n",
        "\n",
        "The business can have a discount on the base of their repeated guest so that number of repeate guest could increase."
      ],
      "metadata": {
        "id": "ey_0qi68phqO"
      }
    },
    {
      "cell_type": "markdown",
      "source": [
        "#### Chart - 8"
      ],
      "metadata": {
        "id": "YJ55k-q6phqO"
      }
    },
    {
      "cell_type": "code",
      "source": [
        "# Chart - 9 visualization code\n",
        "# Distribution Channel wise Analysis\n",
        "distribution_channel = new_df.groupby([\"distribution_channel\"]).size()\n",
        "sns.barplot(x=distribution_channel.index,y=distribution_channel.values)\n",
        "plt.title(\"Distribution Channel Wise Analysis\", color=\"green\", fontsize=20)\n",
        "plt.xlabel(\"Distribution Channel\")\n",
        "plt.ylabel(\"Count of Bookings\")"
      ],
      "metadata": {
        "id": "B2aS4O1ophqO"
      },
      "execution_count": null,
      "outputs": []
    },
    {
      "cell_type": "markdown",
      "source": [
        "##### 1. Why did you pick the specific chart?"
      ],
      "metadata": {
        "id": "gCFgpxoyphqP"
      }
    },
    {
      "cell_type": "markdown",
      "source": [
        "Answer Here.\n",
        "\n",
        "The 'distribution_channel' data is categorical, and a bar chart is an effective way to represent and compare different categories."
      ],
      "metadata": {
        "id": "TVxDimi2phqP"
      }
    },
    {
      "cell_type": "markdown",
      "source": [
        "##### 2. What is/are the insight(s) found from the chart?"
      ],
      "metadata": {
        "id": "OVtJsKN_phqQ"
      }
    },
    {
      "cell_type": "markdown",
      "source": [
        "Answer Here\n",
        "\n",
        "Channel Popularity: The chart shows which distribution channels are the most popular for booking accommodations. For example, you can see if online travel agencies (OTAs), direct bookings, or other channels are preferred by customers.\n",
        "\n",
        "Market Penetration: It provides insight into which distribution channels are successful in reaching customers. If a particular channel has a significant share of bookings, it may indicate effective marketing and distribution strategies.\n",
        "\n",
        "Marketing and Strategy: This information is valuable for marketing and distribution strategy planning. Hotels and accommodation providers can use this data to allocate resources and tailor their marketing efforts based on the most popular distribution channels."
      ],
      "metadata": {
        "id": "ngGi97qjphqQ"
      }
    },
    {
      "cell_type": "markdown",
      "source": [
        "##### 3. Will the gained insights help creating a positive business impact?\n",
        "Are there any insights that lead to negative growth? Justify with specific reason."
      ],
      "metadata": {
        "id": "lssrdh5qphqQ"
      }
    },
    {
      "cell_type": "markdown",
      "source": [
        "Answer Here\n",
        "\n",
        "Optimized Marketing: Understanding which distribution channels are the most popular can help businesses allocate their marketing resources more effectively. They can invest more in channels that bring in a higher volume of bookings and adjust marketing strategies for channels that are less effective.\n",
        "\n",
        "Customer Targeting: Knowing how customers prefer to book can inform customer targeting efforts. Businesses can tailor their promotions, loyalty programs, and offers to align with the preferences of customers using specific channels."
      ],
      "metadata": {
        "id": "tBpY5ekJphqQ"
      }
    },
    {
      "cell_type": "markdown",
      "source": [
        "#### Chart - 9"
      ],
      "metadata": {
        "id": "U2RJ9gkRphqQ"
      }
    },
    {
      "cell_type": "code",
      "source": [
        "# Chart - 9 visualization code\n",
        "# meat preference by the country\n",
        "# may be longer waiting period or longer lead time causes the cancellation of bookings, let us check that\n",
        "\n",
        "waiting_bookings = new_df[new_df['days_in_waiting_list'] !=0]  # Selecting bookings with non zero waiting time\n",
        "\n",
        "fig, axes = plt.subplots(1, 2, figsize=(18, 8))\n",
        "sns.kdeplot(x = 'days_in_waiting_list', hue = 'is_canceled' , data = waiting_bookings, ax=axes[0])\n",
        "sns.kdeplot(x = new_df['lead_time'], hue = new_df['is_canceled'],ax = axes[1])\n",
        "plt.show()"
      ],
      "metadata": {
        "id": "GM7a4YP4phqQ"
      },
      "execution_count": null,
      "outputs": []
    },
    {
      "cell_type": "markdown",
      "source": [
        "##### 1. Why did you pick the specific chart?"
      ],
      "metadata": {
        "id": "1M8mcRywphqQ"
      }
    },
    {
      "cell_type": "markdown",
      "source": [
        "Answer Here.\n",
        "\n",
        "Continuous Data: Kernel Density Estimation is effective for visualizing the distribution of continuous data, such as waiting time and lead time.\n",
        "\n",
        "Multivariate Analysis: The use of two KDE plots side by side allows for the simultaneous analysis of two related variables (waiting time and lead time) and their impact on booking cancellations. It's an efficient way to explore multivariate relationships.\n",
        "\n",
        "Cancellation Differentiation: By using the 'hue' parameter to differentiate between canceled and non-canceled bookings, the charts provide a clear visual representation of how the two variables affect the likelihood of a booking being canceled."
      ],
      "metadata": {
        "id": "8agQvks0phqQ"
      }
    },
    {
      "cell_type": "markdown",
      "source": [
        "##### 2. What is/are the insight(s) found from the chart?"
      ],
      "metadata": {
        "id": "tgIPom80phqQ"
      }
    },
    {
      "cell_type": "markdown",
      "source": [
        "Answer Here\n",
        "\n",
        "We observe that the majority of bookings that are canceled have a waiting period of fewer than 150 days. However, it's important to note that most bookings that are not canceled also have a waiting period of less than 150 days. This indicates that the waiting period alone may not be a significant factor affecting the cancellation of bookings.\n",
        "\n",
        "Similarly, when examining lead time, we find that the curves for both canceled and non-canceled bookings are similar. This suggests that lead time does not appear to have a substantial effect on the cancellation of bookings.\"\n",
        "\n",
        "This analysis highlights that both waiting period and lead time, as shown in the KDE plots, don't exhibit a strong correlation with booking cancellations. Other factors may be at play in determining whether bookings are canceled or not."
      ],
      "metadata": {
        "id": "Qp13pnNzphqQ"
      }
    },
    {
      "cell_type": "markdown",
      "source": [
        "##### 3. Will the gained insights help creating a positive business impact?\n",
        "Are there any insights that lead to negative growth? Justify with specific reason."
      ],
      "metadata": {
        "id": "JMzcOPDDphqR"
      }
    },
    {
      "cell_type": "markdown",
      "source": [
        "Answer Here\n",
        "\n",
        "Operational Efficiency: Understanding that waiting period and lead time do not significantly impact booking cancellations allows businesses to focus their resources on operational efficiency rather than overemphasizing these factors in their processes.\n",
        "\n",
        "Improved Customer Experience: The insights can lead to the development of strategies to enhance the overall customer experience, which may be a more critical factor in preventing cancellations.\n",
        "\n",
        "Pricing Strategies: Businesses can fine-tune their pricing strategies and promotional efforts, taking into account that waiting period and lead time may not be primary drivers of cancellations. This can improve revenue management.\n",
        "\n",
        "Marketing Optimization: Businesses can reallocate marketing resources to areas that have a more direct impact on customer retention and bookings."
      ],
      "metadata": {
        "id": "R4Ka1PC2phqR"
      }
    },
    {
      "cell_type": "markdown",
      "source": [
        "#### Chart - 10"
      ],
      "metadata": {
        "id": "x-EpHcCOp1ci"
      }
    },
    {
      "cell_type": "code",
      "source": [
        "# Chart - 11 visualization code\n",
        "#  length of stay affects the adr\n",
        "new_df[\"total_stays\"] = new_df[\"stays_in_week_nights\"] + new_df[\"stays_in_weekend_nights\"]\n",
        "plt.figure(figsize = (12,6))\n",
        "sns.scatterplot(y = 'adr', x = 'total_stays', data = new_df)\n",
        "plt.show()"
      ],
      "metadata": {
        "id": "mAQTIvtqp1cj"
      },
      "execution_count": null,
      "outputs": []
    },
    {
      "cell_type": "code",
      "source": [
        "new_df.drop(new_df[new_df['adr'] > 5000].index, inplace = True)\n",
        "plt.figure(figsize = (12,6))\n",
        "sns.scatterplot(y = 'adr', x = 'total_stays', data = new_df)\n",
        "plt.show()"
      ],
      "metadata": {
        "id": "zNmHqTb2pqNQ"
      },
      "execution_count": null,
      "outputs": []
    },
    {
      "cell_type": "markdown",
      "source": [
        "##### 1. Why did you pick the specific chart?"
      ],
      "metadata": {
        "id": "X_VqEhTip1ck"
      }
    },
    {
      "cell_type": "markdown",
      "source": [
        "Answer Here.\n",
        "\n",
        "Visualization of Data Distribution: Scatter plots allow you to see the distribution of data points for both variables. Each point on the plot represents a specific data entry, making it easy to visualize the spread and density of the data.\n",
        "\n"
      ],
      "metadata": {
        "id": "-vsMzt_np1ck"
      }
    },
    {
      "cell_type": "markdown",
      "source": [
        "##### 2. What is/are the insight(s) found from the chart?"
      ],
      "metadata": {
        "id": "8zGJKyg5p1ck"
      }
    },
    {
      "cell_type": "markdown",
      "source": [
        "Answer Here\n",
        "\n",
        "As observed in the scatter plot, there is an inverse relationship between the length of stay and the average daily rate (ADR). As the length of stay increases, the ADR tends to decrease. This analysis suggests that customers can obtain the best deals by opting for longer stays, allowing them to take advantage of lower costs"
      ],
      "metadata": {
        "id": "ZYdMsrqVp1ck"
      }
    },
    {
      "cell_type": "markdown",
      "source": [
        "##### 3. Will the gained insights help creating a positive business impact?\n",
        "Are there any insights that lead to negative growth? Justify with specific reason."
      ],
      "metadata": {
        "id": "PVzmfK_Ep1ck"
      }
    },
    {
      "cell_type": "markdown",
      "source": [
        "Answer Here\n",
        "\n",
        "Pricing Strategy: Understanding how ADR is influenced by the length of stay can aid in developing a more competitive pricing strategy. For example, offering discounts or incentives for longer stays may attract more customers\n",
        "\n",
        "Customer Experience: Longer stays can lead to a more extended customer experience, potentially increasing customer satisfaction, loyalty, and word-of-mouth referrals.\n",
        "\n",
        "Revenue Management: Using this information, hotels can manage revenue more effectively by adjusting prices and promotions according to the length of stay, maximizing overall revenue.\n",
        "\n",
        "Marketing and Promotions: Tailoring marketing campaigns and promotions to highlight the benefits of longer stays can attract a specific segment of customers who are looking for extended accommodations."
      ],
      "metadata": {
        "id": "druuKYZpp1ck"
      }
    },
    {
      "cell_type": "markdown",
      "source": [
        "#### Chart - 11"
      ],
      "metadata": {
        "id": "n3dbpmDWp1ck"
      }
    },
    {
      "cell_type": "code",
      "source": [
        "# Chart - 11 visualization code\n",
        "new_df.head()"
      ],
      "metadata": {
        "id": "bwevp1tKp1ck"
      },
      "execution_count": null,
      "outputs": []
    },
    {
      "cell_type": "code",
      "source": [
        "sns.barplot(data=new_df, x=\"customer_type\",y=\"lead_time\")\n",
        "plt.title('customer_type and their lead time')"
      ],
      "metadata": {
        "id": "yn6H9POdz_SR"
      },
      "execution_count": null,
      "outputs": []
    },
    {
      "cell_type": "markdown",
      "source": [
        "##### 1. Why did you pick the specific chart?"
      ],
      "metadata": {
        "id": "ylSl6qgtp1ck"
      }
    },
    {
      "cell_type": "markdown",
      "source": [
        "Answer Here.\n",
        "\n",
        "This chart help us to visualise the type of customer and their booking lead time"
      ],
      "metadata": {
        "id": "m2xqNkiQp1ck"
      }
    },
    {
      "cell_type": "markdown",
      "source": [
        "##### 2. What is/are the insight(s) found from the chart?"
      ],
      "metadata": {
        "id": "ZWILFDl5p1ck"
      }
    },
    {
      "cell_type": "markdown",
      "source": [
        "Answer Here\n",
        "\n",
        "This chart provides a quick overview of customer types and their booking behavior for hotels. It helps us understand which type of customers typically have longer lead times when booking hotels"
      ],
      "metadata": {
        "id": "x-lUsV2mp1ck"
      }
    },
    {
      "cell_type": "markdown",
      "source": [
        "##### 3. Will the gained insights help creating a positive business impact?\n",
        "Are there any insights that lead to negative growth? Justify with specific reason."
      ],
      "metadata": {
        "id": "M7G43BXep1ck"
      }
    },
    {
      "cell_type": "markdown",
      "source": [
        "Answer Here\n",
        "\n",
        "Tailored Marketing: The hotel can tailor its marketing efforts to target specific customer segments more effectively. For customers with longer lead times, marketing campaigns can be timed to capture bookings well in advance.\n",
        "\n",
        "Resource Allocation: With insights into when different customer types are more likely to book, the hotel can allocate staff and resources more efficiently, ensuring that they are adequately prepared during peak booking periods.\n",
        "\n"
      ],
      "metadata": {
        "id": "5wwDJXsLp1cl"
      }
    },
    {
      "cell_type": "markdown",
      "source": [
        "#### Chart - 12 - Correlation Heatmap"
      ],
      "metadata": {
        "id": "NC_X3p0fY2L0"
      }
    },
    {
      "cell_type": "code",
      "source": [
        "# Correlation Heatmap visualization code\n",
        "fig, ax = plt.subplots(figsize=(18,8))\n",
        "sns.heatmap(heat_map, cmap='coolwarm', annot=True)\n",
        "plt.show()"
      ],
      "metadata": {
        "id": "xyC9zolEZNRQ"
      },
      "execution_count": null,
      "outputs": []
    },
    {
      "cell_type": "markdown",
      "source": [
        "##### 1. Why did you pick the specific chart?"
      ],
      "metadata": {
        "id": "UV0SzAkaZNRQ"
      }
    },
    {
      "cell_type": "markdown",
      "source": [
        "Answer Here.\n",
        "\n",
        "this chart will help us to find the corelation between the feature of dataframe"
      ],
      "metadata": {
        "id": "DVPuT8LYZNRQ"
      }
    },
    {
      "cell_type": "markdown",
      "source": [
        "##### 2. What is/are the insight(s) found from the chart?"
      ],
      "metadata": {
        "id": "YPEH6qLeZNRQ"
      }
    },
    {
      "cell_type": "markdown",
      "source": [
        "Answer Here\n",
        "\n",
        "This chart shows us that all the feature of this dataframe are less corelted to each other so its mean we don't have any redundent feature\n",
        "\n",
        "This chart will help the business to know if they have any feature in the dataframe which could be remove if it is highly corelted to another feature"
      ],
      "metadata": {
        "id": "bfSqtnDqZNRR"
      }
    },
    {
      "cell_type": "markdown",
      "source": [
        "#### Chart - 13 - Pair Plot"
      ],
      "metadata": {
        "id": "q29F0dvdveiT"
      }
    },
    {
      "cell_type": "code",
      "source": [
        "# Pair Plot visualization code\n",
        "sns.pairplot(new_df[[\"previous_cancellations\",\"previous_bookings_not_canceled\",\"arrival_date_day_of_month\",\"lead_time\",\"arrival_date_week_number\",\"adults\",\"children\",\"babies\",\"is_repeated_guest\",\"booking_changes\",\"agent\",'days_in_waiting_list',\"adr\",\"required_car_parking_spaces\",\"total_of_special_requests\"]])"
      ],
      "metadata": {
        "id": "o58-TEIhveiU"
      },
      "execution_count": null,
      "outputs": []
    },
    {
      "cell_type": "markdown",
      "source": [
        "##### 1. Why did you pick the specific chart?"
      ],
      "metadata": {
        "id": "EXh0U9oCveiU"
      }
    },
    {
      "cell_type": "markdown",
      "source": [
        "Answer Here.\n",
        "\n",
        "Visualizing Relationships: Pair plots allow you to visualize the relationships between pairs of variables in our dataset. They are particularly useful when you have multiple numeric variables, and you want to explore how these variables relate to each other.\n",
        "\n",
        "Correlation Analysis: Pair plots provide a quick and intuitive way to assess the correlation between variables. By looking at the scatterplots, we can identify patterns, trends, and potential linear or nonlinear relationships between variables.\n",
        "\n",
        "Multivariate Analysis: Pair plots help us perform multivariate analysis. Instead of looking at two variables at a time, you can examine multiple variable combinations simultaneously. This is useful for understanding complex interactions within your data."
      ],
      "metadata": {
        "id": "eMmPjTByveiU"
      }
    },
    {
      "cell_type": "markdown",
      "source": [
        "##### 2. What is/are the insight(s) found from the chart?"
      ],
      "metadata": {
        "id": "22aHeOlLveiV"
      }
    },
    {
      "cell_type": "markdown",
      "source": [
        "Answer Here\n",
        "\n",
        "Correlations: It reveal positive or negative correlations between pairs of variables. When points in a scatter plot show a clear linear trend, it suggests a strong correlation.\n"
      ],
      "metadata": {
        "id": "uPQ8RGwHveiV"
      }
    },
    {
      "cell_type": "markdown",
      "source": [
        "## **5. Solution to Business Objective**"
      ],
      "metadata": {
        "id": "JcMwzZxoAimU"
      }
    },
    {
      "cell_type": "markdown",
      "source": [
        "#### What do you suggest the client to achieve Business Objective ?\n",
        "Explain Briefly."
      ],
      "metadata": {
        "id": "8G2x9gOozGDZ"
      }
    },
    {
      "cell_type": "markdown",
      "source": [
        "Answer Here.\n",
        "\n",
        "Based on the data visualizations and insights, here are some suggestions to help the client achieve their business objective of gaining actionable insights to make data-driven decisions:\n",
        "\n",
        "Focus marketing efforts on city hotels rather than resort hotels, since city hotels have significantly higher bookings. Develop targeted campaigns to further boost city hotel bookings.\n",
        "Prepare for staffing and resource needs in advance for months that have high booking volumes, such as August. Forecast demand to optimize operations.\n",
        "Implement feedback surveys and listen to customer concerns to reduce booking cancellations. Enhance customer experience to improve retention.\n",
        "Offer discounts and incentives for longer hotel stays, as lower ADR for longer stays can attract customers. Develop competitive pricing strategies.\n",
        "Tailor marketing outreach and promotions based on the booking behaviors of different customer segments. Target the right customers at the right time.\n",
        "Streamline operations and marketing spending based on insights that booking lead time and waiting period do not strongly correlate with cancellations.\n",
        "Evaluate distribution channels to double down on most effective ones for booking volumes. Optimize marketing allocation.\n",
        "Focus on overall customer experience, beyond just lead time and waiting periods, to reduce cancellations. Enhance service quality.\n",
        "Leverage insights on customer country diversity to offer customized services and marketing to top regions. Expand reach.\n",
        "Monitor feature correlations to remove redundant features in the future. Keep only meaningful data.\n",
        "The key is to turn the data-driven insights into concrete actions and business process improvements. Continuously track performance to identify what works and what can be further optimized."
      ],
      "metadata": {
        "id": "pASKb0qOza21"
      }
    },
    {
      "cell_type": "markdown",
      "source": [
        "# **Conclusion**"
      ],
      "metadata": {
        "id": "gCX9965dhzqZ"
      }
    },
    {
      "cell_type": "markdown",
      "source": [
        "Write the conclusion here.\n",
        "\n",
        "The objective of this project was to perform exploratory data analysis on a hotel bookings dataset to uncover insights that could guide data-driven decision making. I initiated the project on October 8, 2023 by creating a GitHub repository to store the dataset and analysis code.\n",
        "\n",
        "Over the first few days, I imported the data into a Pandas dataframe, cleaned it by handling missing values and duplicates, and preprocessed it by converting data types and filtering for relevant rows. This ensured I had an accurate, consistent dataset to work with.\n",
        "\n",
        "A key part of the analysis involved extensive visualization of the data using charts like bar plots, heatmaps, and pairplots. These allowed me to identify trends and relationships between variables that could provide actionable insights. For example, bar charts revealed city hotels had higher booking volumes than resort hotels.\n",
        "\n",
        "Based on the visualizations and insights uncovered, I suggested focusing marketing on city hotels, preparing for staffing needs during high demand months, implementing customer feedback surveys to improve retention, offering discounts for longer stays, and tailoring promotions by customer segment.\n",
        "\n",
        "The project concluded on October 21, 2023 after conducting a thorough exploratory data analysis. The visualizations and recommendations allow the client to make data-driven decisions to optimize operations, marketing, and the customer experience. Tracking the impact of these changes will reveal what works best for continued optimization.\n",
        "\n",
        "Overall, this project provided an end-to-end data analysis experience - from data cleaning to visualization to deriving insights for business impact."
      ],
      "metadata": {
        "id": "Fjb1IsQkh3yE"
      }
    },
    {
      "cell_type": "markdown",
      "source": [
        "### ***Hurrah! You have successfully completed your EDA Capstone Project !!!***"
      ],
      "metadata": {
        "id": "gIfDvo9L0UH2"
      }
    }
  ]
}
